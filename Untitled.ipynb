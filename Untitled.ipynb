{
 "cells": [
  {
   "cell_type": "code",
   "execution_count": 3,
   "id": "e71b0d27",
   "metadata": {},
   "outputs": [],
   "source": [
    "import os\n",
    "\n",
    "# Specify the directory containing the images\n",
    "directory = 'Gestures\\Gesture_1'\n",
    "count = 0\n",
    "# Iterate through the files in the directory\n",
    "for filename in os.listdir(directory):\n",
    "    \n",
    "    if filename.endswith('.jpg'):  # You can specify the file extension you want to rename\n",
    "        # Create a new name for the file (e.g., adding a prefix or suffix)\n",
    "        new_name = f'image_{count}'  # Modify this as needed\n",
    "        \n",
    "        # Construct the full paths to the old and new files\n",
    "        old_path = os.path.join(directory, filename)\n",
    "        new_path = os.path.join(directory, new_name)\n",
    "        \n",
    "        # Rename the file by moving it\n",
    "        os.rename(old_path, new_path)\n",
    "        count+=1\n"
   ]
  },
  {
   "cell_type": "code",
   "execution_count": 2,
   "id": "9bc4cfcd",
   "metadata": {},
   "outputs": [
    {
     "name": "stderr",
     "output_type": "stream",
     "text": [
      "WARNING: Retrying (Retry(total=4, connect=None, read=None, redirect=None, status=None)) after connection broken by 'ConnectTimeoutError(<pip._vendor.urllib3.connection.HTTPSConnection object at 0x0000014B95857760>, 'Connection to pypi.org timed out. (connect timeout=15)')': /simple/sklearn/\n",
      "WARNING: Retrying (Retry(total=3, connect=None, read=None, redirect=None, status=None)) after connection broken by 'ConnectTimeoutError(<pip._vendor.urllib3.connection.HTTPSConnection object at 0x0000014B95857400>, 'Connection to pypi.org timed out. (connect timeout=15)')': /simple/sklearn/\n",
      "WARNING: Retrying (Retry(total=2, connect=None, read=None, redirect=None, status=None)) after connection broken by 'ConnectTimeoutError(<pip._vendor.urllib3.connection.HTTPSConnection object at 0x0000014B958571C0>, 'Connection to pypi.org timed out. (connect timeout=15)')': /simple/sklearn/\n",
      "WARNING: Retrying (Retry(total=1, connect=None, read=None, redirect=None, status=None)) after connection broken by 'ConnectTimeoutError(<pip._vendor.urllib3.connection.HTTPSConnection object at 0x0000014B9587E040>, 'Connection to pypi.org timed out. (connect timeout=15)')': /simple/sklearn/\n",
      "WARNING: Retrying (Retry(total=0, connect=None, read=None, redirect=None, status=None)) after connection broken by 'ConnectTimeoutError(<pip._vendor.urllib3.connection.HTTPSConnection object at 0x0000014B9587E1C0>, 'Connection to pypi.org timed out. (connect timeout=15)')': /simple/sklearn/\n",
      "ERROR: Could not find a version that satisfies the requirement sklearn (from versions: none)\n",
      "ERROR: No matching distribution found for sklearn\n"
     ]
    }
   ],
   "source": [
    "!pip install sklearn\n"
   ]
  },
  {
   "cell_type": "code",
   "execution_count": null,
   "id": "543f3e4c",
   "metadata": {},
   "outputs": [],
   "source": []
  },
  {
   "cell_type": "code",
   "execution_count": 6,
   "id": "233c9335",
   "metadata": {},
   "outputs": [
    {
     "name": "stdout",
     "output_type": "stream",
     "text": [
      "<class 'pandas.core.frame.DataFrame'>\n",
      "<class 'pandas.core.frame.DataFrame'>\n"
     ]
    }
   ],
   "source": [
    "import pandas as pd\n",
    "from sklearn.model_selection import train_test_split\n",
    "\n",
    "# Load the \"palm.csv\" and \"thumbsup.csv\" files\n",
    "palm_data = pd.read_csv(\"Gestures/Gesture_0/palm.csv\")\n",
    "thumbsup_data = pd.read_csv(\"Gestures/Gesture_1/thumbsup.csv\")\n",
    "print(type(palm_data))\n",
    "\n",
    "# Split the data into 80-20 ratios for both \"palm\" and \"thumbsup\" datasets\n",
    "palm_train, palm_test = train_test_split(palm_data, test_size=0.2, random_state=42)\n",
    "thumbsup_train, thumbsup_test = train_test_split(thumbsup_data, test_size=0.2, random_state=42)\n",
    "print(type(palm_train))\n",
    "# # Concatenate the training and testing data for both \"palm\" and \"thumbsup\"\n",
    "# train = pd.concat([palm_train, thumbsup_train], axis=0)\n",
    "# test = pd.concat([palm_test, thumbsup_test], axis=0)\n",
    "\n",
    "\n",
    "# # Save the concatenated data to new CSV files\n",
    "# train.to_csv('Gestures/train.csv', index=False)\n",
    "# test.to_csv('Gestures/test.csv', index=False)\n"
   ]
  },
  {
   "cell_type": "code",
   "execution_count": 7,
   "id": "8a59ec9d",
   "metadata": {},
   "outputs": [],
   "source": [
    "palm_data = pd.read_csv(\"Gestures/Gesture_0/palm.csv\")\n",
    "thumbsup_data = pd.read_csv(\"Gestures/Gesture_1/thumbsup.csv\")\n",
    "\n",
    "data = pd.concat([palm_data, thumbsup_data], axis=0)\n",
    "# Split the data into 80-20 ratios for both \"palm\" and \"thumbsup\" datasets\n",
    "train, test = train_test_split(data, test_size=0.2, random_state=42)\n",
    "\n",
    "# Concatenate the training and testing data for both \"palm\" and \"thumbsup\"\n",
    "\n",
    "\n",
    "# Save the concatenated data to new CSV files\n",
    "train.to_csv('Gestures/train_new.csv', index=False)\n",
    "test.to_csv('Gestures/test_new.csv', index=False)"
   ]
  },
  {
   "cell_type": "code",
   "execution_count": 4,
   "id": "b8b4d85c",
   "metadata": {},
   "outputs": [],
   "source": [
    "import numpy as np\n",
    "xtr = np.array([1,2,3,4,5,5,6,6,6])"
   ]
  },
  {
   "cell_type": "code",
   "execution_count": 5,
   "id": "39c69280",
   "metadata": {},
   "outputs": [
    {
     "data": {
      "text/plain": [
       "array([1, 2, 3, 4, 5, 5, 6, 6, 6])"
      ]
     },
     "execution_count": 5,
     "metadata": {},
     "output_type": "execute_result"
    }
   ],
   "source": [
    "xtr\n"
   ]
  },
  {
   "cell_type": "code",
   "execution_count": 13,
   "id": "0b2141b5",
   "metadata": {},
   "outputs": [
    {
     "name": "stdout",
     "output_type": "stream",
     "text": [
      "(9,)\n"
     ]
    }
   ],
   "source": [
    "a=list(xtr)\n",
    "a=np.array(a)\n",
    "print(a.shape)"
   ]
  },
  {
   "cell_type": "code",
   "execution_count": 10,
   "id": "a107bc5d",
   "metadata": {},
   "outputs": [
    {
     "name": "stdout",
     "output_type": "stream",
     "text": [
      "(63,)\n"
     ]
    }
   ],
   "source": [
    "col=[i for i in range(63)]\n",
    "col = np.array(col)\n",
    "print(col.shape)"
   ]
  },
  {
   "cell_type": "code",
   "execution_count": null,
   "id": "0ba618cb",
   "metadata": {},
   "outputs": [],
   "source": []
  }
 ],
 "metadata": {
  "kernelspec": {
   "display_name": "Python 3.11 (tensorflow)",
   "language": "python",
   "name": "tensorflow"
  },
  "language_info": {
   "codemirror_mode": {
    "name": "ipython",
    "version": 3
   },
   "file_extension": ".py",
   "mimetype": "text/x-python",
   "name": "python",
   "nbconvert_exporter": "python",
   "pygments_lexer": "ipython3",
   "version": "3.10.12"
  }
 },
 "nbformat": 4,
 "nbformat_minor": 5
}
